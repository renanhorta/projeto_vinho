{
 "cells": [
  {
   "cell_type": "code",
   "execution_count": 24,
   "metadata": {},
   "outputs": [],
   "source": [
    "import sqlalchemy"
   ]
  },
  {
   "cell_type": "code",
   "execution_count": 25,
   "metadata": {},
   "outputs": [],
   "source": [
    "from sqlalchemy.orm import declarative_base\n",
    "from sqlalchemy import Column, Integer, String\n"
   ]
  },
  {
   "cell_type": "code",
   "execution_count": 26,
   "metadata": {},
   "outputs": [],
   "source": [
    "\n",
    "engine = sqlalchemy.create_engine('sqlite:///enterprise.db' , echo=True)"
   ]
  },
  {
   "cell_type": "code",
   "execution_count": 27,
   "metadata": {},
   "outputs": [],
   "source": [
    "Base = declarative_base()"
   ]
  },
  {
   "cell_type": "code",
   "execution_count": 28,
   "metadata": {},
   "outputs": [],
   "source": [
    "class Usuario(Base):\n",
    "  __tablename__ = \"usuario\"\n",
    "  id = Column(Integer, primary_key=True,autoincrement=True)\n",
    "  nome = Column(String(30))\n",
    "  sobrenome = Column(String(30))\n",
    "  idade = Column(Integer)"
   ]
  },
  {
   "cell_type": "code",
   "execution_count": 29,
   "metadata": {},
   "outputs": [
    {
     "name": "stdout",
     "output_type": "stream",
     "text": [
      "2023-09-21 00:46:40,520 INFO sqlalchemy.engine.Engine BEGIN (implicit)\n",
      "2023-09-21 00:46:40,522 INFO sqlalchemy.engine.Engine PRAGMA main.table_info(\"usuario\")\n",
      "2023-09-21 00:46:40,523 INFO sqlalchemy.engine.Engine [raw sql] ()\n",
      "2023-09-21 00:46:40,524 INFO sqlalchemy.engine.Engine COMMIT\n"
     ]
    }
   ],
   "source": [
    "Base.metadata.create_all(engine)"
   ]
  },
  {
   "cell_type": "code",
   "execution_count": 30,
   "metadata": {},
   "outputs": [],
   "source": [
    "user = Usuario(nome=\"teste\", sobrenome = \"testao\", idade = 20)\n",
    "\n"
   ]
  },
  {
   "cell_type": "code",
   "execution_count": 31,
   "metadata": {},
   "outputs": [],
   "source": [
    "from sqlalchemy.orm import sessionmaker"
   ]
  },
  {
   "cell_type": "code",
   "execution_count": 32,
   "metadata": {},
   "outputs": [],
   "source": [
    "Session = sessionmaker(engine)\n",
    "session = Session()"
   ]
  },
  {
   "cell_type": "code",
   "execution_count": 33,
   "metadata": {},
   "outputs": [
    {
     "name": "stdout",
     "output_type": "stream",
     "text": [
      "2023-09-21 00:46:40,564 INFO sqlalchemy.engine.Engine BEGIN (implicit)\n",
      "2023-09-21 00:46:40,567 INFO sqlalchemy.engine.Engine INSERT INTO usuario (nome, sobrenome, idade) VALUES (?, ?, ?)\n",
      "2023-09-21 00:46:40,568 INFO sqlalchemy.engine.Engine [generated in 0.00104s] ('teste', 'testao', 20)\n",
      "2023-09-21 00:46:40,570 INFO sqlalchemy.engine.Engine COMMIT\n"
     ]
    }
   ],
   "source": [
    "session.add(user)\n",
    "session.commit()"
   ]
  },
  {
   "cell_type": "code",
   "execution_count": null,
   "metadata": {},
   "outputs": [],
   "source": []
  }
 ],
 "metadata": {
  "kernelspec": {
   "display_name": "Python 3",
   "language": "python",
   "name": "python3"
  },
  "language_info": {
   "codemirror_mode": {
    "name": "ipython",
    "version": 3
   },
   "file_extension": ".py",
   "mimetype": "text/x-python",
   "name": "python",
   "nbconvert_exporter": "python",
   "pygments_lexer": "ipython3",
   "version": "3.11.4"
  },
  "orig_nbformat": 4
 },
 "nbformat": 4,
 "nbformat_minor": 2
}
