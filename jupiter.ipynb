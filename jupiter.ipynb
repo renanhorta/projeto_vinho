{
 "cells": [
  {
   "cell_type": "code",
   "execution_count": 1,
   "metadata": {},
   "outputs": [],
   "source": [
    "import sqlite3\n",
    "import pandas as pd\n"
   ]
  },
  {
   "cell_type": "code",
   "execution_count": 2,
   "metadata": {},
   "outputs": [
    {
     "name": "stdout",
     "output_type": "stream",
     "text": [
      "   id    nome     uva nacionalidade  nota harmonizacao comentario\n",
      "0   1   VERDE   VERDE      OKAOKAOK     2        AOKOK      \\nASD\n",
      "1   2  VERDE3  ASDASD       QSWEQWR     2        SASDA   SDASDASD\n",
      "2   3     NIG   ESD33        ASDASD    21       ASDASD    ASDADAD\n"
     ]
    }
   ],
   "source": [
    "db_file_path = 'vinhos.db'  # Update with the correct path to your SQLite database file\n",
    "conn = sqlite3.connect(db_file_path)\n",
    "query = \"SELECT * FROM vinhos;\"\n",
    "cursor = conn.execute(query)\n",
    "rows = cursor.fetchall()\n",
    "df = pd.read_sql_query(query, conn)\n",
    "conn.close()\n",
    "\n",
    "print(df)\n"
   ]
  },
  {
   "cell_type": "code",
   "execution_count": 3,
   "metadata": {},
   "outputs": [
    {
     "name": "stdout",
     "output_type": "stream",
     "text": [
      "   id    nome     uva nacionalidade  nota harmonizacao comentario\n",
      "0   1   VERDE   VERDE      OKAOKAOK     2        AOKOK      \\nASD\n",
      "1   2  VERDE3  ASDASD       QSWEQWR     2        SASDA   SDASDASD\n",
      "2   3     NIG   ESD33        ASDASD    21       ASDASD    ASDADAD\n"
     ]
    }
   ],
   "source": [
    "column_names = [description[0] for description in cursor.description]\n",
    "\n",
    "# Criar o DataFrame pandas\n",
    "df = pd.DataFrame(rows, columns=column_names)\n",
    "\n",
    "# Exibir as primeiras linhas do DataFrame para verificar os dados\n",
    "print(df.head())"
   ]
  }
 ],
 "metadata": {
  "kernelspec": {
   "display_name": "Python 3",
   "language": "python",
   "name": "python3"
  },
  "language_info": {
   "codemirror_mode": {
    "name": "ipython",
    "version": 3
   },
   "file_extension": ".py",
   "mimetype": "text/x-python",
   "name": "python",
   "nbconvert_exporter": "python",
   "pygments_lexer": "ipython3",
   "version": "3.11.4"
  },
  "orig_nbformat": 4
 },
 "nbformat": 4,
 "nbformat_minor": 2
}
